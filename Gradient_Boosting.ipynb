{
 "cells": [
  {
   "cell_type": "code",
   "execution_count": 8,
   "metadata": {},
   "outputs": [
    {
     "name": "stdout",
     "output_type": "stream",
     "text": [
      "              precision    recall  f1-score   support\n",
      "\n",
      "   Converted       0.86      0.55      0.67        11\n",
      "    Demented       0.97      1.00      0.99        38\n",
      " Nondemented       0.92      0.98      0.95        45\n",
      "\n",
      "    accuracy                           0.94        94\n",
      "   macro avg       0.92      0.84      0.87        94\n",
      "weighted avg       0.93      0.94      0.93        94\n",
      "\n"
     ]
    }
   ],
   "source": [
    "# Import models and utility functions\n",
    "import numpy as np\n",
    "import pandas as pd\n",
    "from sklearn.ensemble import GradientBoostingClassifier\n",
    "from sklearn.model_selection import train_test_split\n",
    "from sklearn.metrics import classification_report\n",
    "\n",
    "from data_processing import preprocess_data\n",
    "# Load the dataset\n",
    "data = pd.read_csv('dementia_dataset.csv')\n",
    "\n",
    "# Preprocess the data (excluding any non-feature columns like IDs or target variable)\n",
    "X = preprocess_data(data.iloc[:, 3:])  # Assuming the first two columns are non-features\n",
    "y = data.iloc[:, 2]  \n",
    "\n",
    "def gbc_model(X,y):\n",
    "  # Setting SEED for reproducibility\n",
    "  SEED = 23\n",
    "  \n",
    "  # Splitting dataset\n",
    "  X_train, X_test, y_train, y_test = train_test_split(X, y, test_size = 0.25, random_state = SEED)\n",
    "  \n",
    "  # Instantiate Gradient Boosting Regressor\n",
    "  gbc = GradientBoostingClassifier(n_estimators=300,learning_rate=0.05,random_state=100,max_features=5 )\n",
    "  # Fit to training set\n",
    "  gbc.fit(X_train, y_train)\n",
    "  \n",
    "  # Predict on test set\n",
    "  y_pred = gbc.predict(X_test)\n",
    "  \n",
    "  # Get unique classes from y for target_names, converted to string\n",
    "  target_names = [str(label) for label in np.unique(y)]\n",
    "\n",
    "  # Print the classification report\n",
    "  print(classification_report(y_test, y_pred, target_names=target_names, labels=np.unique(y)))\n",
    "  return gbc\n",
    "\n",
    "gbc=gbc_model(X,y)"
   ]
  },
  {
   "cell_type": "code",
   "execution_count": 9,
   "metadata": {},
   "outputs": [
    {
     "name": "stdout",
     "output_type": "stream",
     "text": [
      "Selected Features Based on Chi-Square Test:\n",
      "      Feature  Chi-Square Score\n",
      "1   MR Delay       8730.156849\n",
      "7        CDR        126.044030\n",
      "6       MMSE         68.626076\n",
      "8       eTIV         28.153708\n",
      "2        M/F         14.399209\n",
      "4       EDUC         14.324485\n",
      "5        SES         12.711373\n",
      "3        Age          4.695928\n",
      "0      Visit          2.892589\n",
      "9       nWBV          0.070393\n",
      "10       ASF          0.012210\n",
      "              precision    recall  f1-score   support\n",
      "\n",
      "   Converted       0.86      0.55      0.67        11\n",
      "    Demented       0.97      1.00      0.99        38\n",
      " Nondemented       0.92      0.98      0.95        45\n",
      "\n",
      "    accuracy                           0.94        94\n",
      "   macro avg       0.92      0.84      0.87        94\n",
      "weighted avg       0.93      0.94      0.93        94\n",
      "\n",
      "Accuracy scores for each fold: [0.8933333333333333, 0.9066666666666666, 0.9066666666666666, 0.9594594594594594, 0.9459459459459459]\n",
      "Average accuracy across 5 folds: 0.9224\n",
      "\n",
      "Aggregated Classification Report across all folds:\n",
      "             Precision    Recall  F1-Score  Support\n",
      "Converted     0.883333  0.375505  0.477172       37\n",
      "Demented      0.914864  0.994444  0.951334      146\n",
      "Nondemented   0.929037  0.982908  0.954694      190\n"
     ]
    },
    {
     "data": {
      "text/plain": [
       "0.9224144144144143"
      ]
     },
     "execution_count": 9,
     "metadata": {},
     "output_type": "execute_result"
    }
   ],
   "source": [
    "from data_processing import select_chi_square_features\n",
    "X=select_chi_square_features(X,y)\n",
    "\n",
    "gbc=gbc_model(X,y)\n",
    "\n",
    "from data_processing import k_fold_cross_validation\n",
    "k_fold_cross_validation(gbc,X,y)"
   ]
  },
  {
   "cell_type": "code",
   "execution_count": 3,
   "metadata": {},
   "outputs": [
    {
     "data": {
      "image/png": "[encoded data removed]",
      "text/plain": [
       "<Figure size 1000x600 with 1 Axes>"
      ]
     },
     "metadata": {},
     "output_type": "display_data"
    }
   ],
   "source": [
    "import matplotlib.pyplot as plt\n",
    "\n",
    "plt.figure(figsize=(10, 6))\n",
    "feat_importances = pd.Series(gbc.feature_importances_, index=X.columns)\n",
    "feat_importances.nlargest(10).plot(kind='barh')\n",
    "plt.title('Top 10 Feature Importances')\n",
    "plt.xlabel('Relative Importance')\n",
    "plt.ylabel('Feature')\n",
    "plt.show()"
   ]
  },
  {
   "cell_type": "code",
   "execution_count": 10,
   "metadata": {},
   "outputs": [
    {
     "name": "stdout",
     "output_type": "stream",
     "text": [
      "Fitting 5 folds for each of 729 candidates, totalling 3645 fits\n",
      "Best parameters found:  {'learning_rate': 0.01, 'max_depth': 3, 'max_features': 5, 'min_samples_leaf': 1, 'min_samples_split': 10, 'n_estimators': 500}\n",
      "              precision    recall  f1-score   support\n",
      "\n",
      "   Converted       0.67      0.18      0.29        11\n",
      "    Demented       0.90      1.00      0.95        38\n",
      " Nondemented       0.90      0.98      0.94        45\n",
      "\n",
      "    accuracy                           0.89        94\n",
      "   macro avg       0.82      0.72      0.72        94\n",
      "weighted avg       0.87      0.89      0.87        94\n",
      "\n"
     ]
    }
   ],
   "source": [
    "from sklearn.ensemble import GradientBoostingClassifier\n",
    "from sklearn.model_selection import GridSearchCV\n",
    "\n",
    "# Define the parameter grid\n",
    "param_grid = {\n",
    "    'n_estimators': [100, 300, 500],\n",
    "    'learning_rate': [0.01, 0.05, 0.1],\n",
    "    'max_depth': [3, 5, 7],\n",
    "    'min_samples_split': [2, 5, 10],\n",
    "    'min_samples_leaf': [1, 2, 4],\n",
    "    'max_features': [3, 5, 'sqrt']\n",
    "}\n",
    "\n",
    "# Initialize the model\n",
    "gbc = GradientBoostingClassifier(random_state=100)\n",
    "\n",
    "# Setup GridSearchCV\n",
    "grid_search = GridSearchCV(estimator=gbc, param_grid=param_grid, cv=5, scoring='accuracy', n_jobs=-1, verbose=1)\n",
    "X_train, X_test, y_train, y_test = train_test_split(X, y, test_size = 0.25, random_state = SEED)\n",
    "  \n",
    "# Fit to training data\n",
    "grid_search.fit(X_train, y_train)\n",
    "\n",
    "# Best parameters found\n",
    "print(\"Best parameters found: \", grid_search.best_params_)\n",
    "best_model = grid_search.best_estimator_\n",
    "\n",
    "# Predict and evaluate\n",
    "y_pred = best_model.predict(X_test)\n",
    "print(classification_report(y_test, y_pred))\n"
   ]
  }
 ],
 "metadata": {
  "kernelspec": {
   "display_name": "Python 3",
   "language": "python",
   "name": "python3"
  },
  "language_info": {
   "codemirror_mode": {
    "name": "ipython",
    "version": 3
   },
   "file_extension": ".py",
   "mimetype": "text/x-python",
   "name": "python",
   "nbconvert_exporter": "python",
   "pygments_lexer": "ipython3",
   "version": "3.11.9"
  }
 },
 "nbformat": 4,
 "nbformat_minor": 2
}
